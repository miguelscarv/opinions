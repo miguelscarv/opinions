{
 "cells": [
  {
   "cell_type": "code",
   "execution_count": 13,
   "metadata": {},
   "outputs": [],
   "source": [
    "import pandas as pd\n",
    "import json\n",
    "from sklearn.metrics import precision_score, recall_score, f1_score, confusion_matrix"
   ]
  },
  {
   "cell_type": "markdown",
   "metadata": {},
   "source": [
    "# Separating newer tweets to a test file and older tweets to a train file"
   ]
  },
  {
   "cell_type": "code",
   "execution_count": 58,
   "metadata": {},
   "outputs": [],
   "source": [
    "df = pd.read_json(\"data/elon_musk.json\")\n",
    "df = df.sort_values(by=\"created_at\", ascending=False)"
   ]
  },
  {
   "cell_type": "code",
   "execution_count": 59,
   "metadata": {},
   "outputs": [],
   "source": [
    "test_df = df[:100]\n",
    "train_df = df[100:]"
   ]
  },
  {
   "cell_type": "code",
   "execution_count": 60,
   "metadata": {},
   "outputs": [],
   "source": [
    "test = []\n",
    "train = []\n",
    "\n",
    "for row in test_df.itertuples():\n",
    "\n",
    "    temp = {}\n",
    "    temp[\"text\"] = row.text\n",
    "    temp[\"created_at\"] = str(row.created_at)\n",
    "    temp[\"retweet_count\"] = row.retweet_count\n",
    "    temp[\"lang\"] = row.lang\n",
    "    temp[\"prediction\"] = row.prediction\n",
    "\n",
    "    test.append(temp)\n",
    "\n",
    "for row in train_df.itertuples():\n",
    "\n",
    "    temp = {}\n",
    "    temp[\"text\"] = row.text\n",
    "    temp[\"created_at\"] = str(row.created_at)\n",
    "    temp[\"retweet_count\"] = row.retweet_count\n",
    "    temp[\"lang\"] = row.lang\n",
    "    temp[\"prediction\"] = row.prediction\n",
    "\n",
    "    train.append(temp)"
   ]
  },
  {
   "cell_type": "code",
   "execution_count": 61,
   "metadata": {},
   "outputs": [],
   "source": [
    "with open(\"data/elon_musk_train.json\", \"w\") as f:\n",
    "    json.dump(train, f)\n",
    "\n",
    "with open(\"data/elon_musk_test.json\", \"w\") as f:\n",
    "    json.dump(test, f)"
   ]
  },
  {
   "cell_type": "markdown",
   "metadata": {},
   "source": [
    "# Evaluating base model on test dataset"
   ]
  },
  {
   "cell_type": "code",
   "execution_count": 89,
   "metadata": {},
   "outputs": [],
   "source": [
    "with open(\"data/elon_musk_test.json\", \"r\") as f:\n",
    "    data = json.load(f)"
   ]
  },
  {
   "cell_type": "code",
   "execution_count": 77,
   "metadata": {},
   "outputs": [
    {
     "data": {
      "text/plain": [
       "{'text': '@SaphAffectionVA @AlexWentzell @AlexWentzell said it already. \\n\\nElon Musk fully understands mammalian biology. Yet you pay for his check?',\n",
       " 'created_at': '2023-02-07 19:14:56',\n",
       " 'retweet_count': 0,\n",
       " 'lang': 'en',\n",
       " 'prediction': {'LABEL_0': 0.504618644714355,\n",
       "  'LABEL_1': 0.45587491989135703,\n",
       "  'LABEL_2': 0.039506431668996006},\n",
       " 'true_label': 1}"
      ]
     },
     "execution_count": 77,
     "metadata": {},
     "output_type": "execute_result"
    }
   ],
   "source": [
    "\"\"\"for tweet in data:\n",
    "    tweet[\"prediction\"] = tweet[\"prediction\"][0]\n",
    "\n",
    "with open(\"data/elon_musk_test.json\", \"w\") as f:\n",
    "    json.dump(data,f)\"\"\""
   ]
  },
  {
   "cell_type": "code",
   "execution_count": 82,
   "metadata": {},
   "outputs": [],
   "source": [
    "def get_prediction(tweet, index: int) -> int:\n",
    "    r = 0\n",
    "    i = 0\n",
    "    m = -1\n",
    "\n",
    "    l = []\n",
    "    if isinstance(tweet[\"prediction\"], list):\n",
    "        l.append(tweet[\"prediction\"][index][\"LABEL_0\"])\n",
    "        l.append(tweet[\"prediction\"][index][\"LABEL_1\"])\n",
    "        l.append(tweet[\"prediction\"][index][\"LABEL_2\"])\n",
    "    else:\n",
    "        l.append(tweet[\"prediction\"][\"LABEL_0\"])\n",
    "        l.append(tweet[\"prediction\"][\"LABEL_1\"])\n",
    "        l.append(tweet[\"prediction\"][\"LABEL_2\"])\n",
    "\n",
    "    for prob in l:\n",
    "        if prob > m:\n",
    "            m = prob\n",
    "            i = r\n",
    "        r += 1\n",
    "    return i"
   ]
  },
  {
   "cell_type": "code",
   "execution_count": 83,
   "metadata": {},
   "outputs": [],
   "source": [
    "predictions = [get_prediction(t,0) for t in data]\n",
    "true_labels = [t[\"true_label\"] for t in data]"
   ]
  },
  {
   "cell_type": "code",
   "execution_count": 84,
   "metadata": {},
   "outputs": [
    {
     "name": "stdout",
     "output_type": "stream",
     "text": [
      "Accuracy of base model: 57%\n"
     ]
    }
   ],
   "source": [
    "acc = 0\n",
    "\n",
    "for p,t in zip(predictions, true_labels):\n",
    "    if p == t:\n",
    "        acc += 1\n",
    "\n",
    "print(f\"Accuracy of base model: {acc/len(predictions)*100:.0f}%\")"
   ]
  },
  {
   "cell_type": "code",
   "execution_count": 85,
   "metadata": {},
   "outputs": [
    {
     "name": "stdout",
     "output_type": "stream",
     "text": [
      "F1 score: 0.57\n",
      "Precision: 0.57\n",
      "Recall: 0.57\n"
     ]
    }
   ],
   "source": [
    "f1 = f1_score(true_labels, predictions, average=\"micro\")\n",
    "precision = precision_score(true_labels, predictions, average=\"micro\")\n",
    "recall = recall_score(true_labels, predictions, average=\"micro\")\n",
    "\n",
    "print(f\"F1 score: {f1}\")\n",
    "print(f\"Precision: {precision}\")\n",
    "print(f\"Recall: {recall}\")"
   ]
  },
  {
   "cell_type": "code",
   "execution_count": 86,
   "metadata": {},
   "outputs": [
    {
     "data": {
      "text/plain": [
       "array([[23,  8,  0],\n",
       "       [15, 26, 11],\n",
       "       [ 4,  5,  8]])"
      ]
     },
     "execution_count": 86,
     "metadata": {},
     "output_type": "execute_result"
    }
   ],
   "source": [
    "confusion_matrix(true_labels, predictions)"
   ]
  },
  {
   "cell_type": "markdown",
   "metadata": {},
   "source": [
    "# Evaluating model after running Active Learning experiments on the training set"
   ]
  },
  {
   "cell_type": "code",
   "execution_count": 103,
   "metadata": {},
   "outputs": [],
   "source": [
    "with open(\"data/elon_musk_test.json\", \"r\") as f:\n",
    "    data = json.load(f)\n",
    "\n",
    "size = len(data[0][\"prediction\"])"
   ]
  },
  {
   "cell_type": "code",
   "execution_count": 104,
   "metadata": {},
   "outputs": [
    {
     "name": "stdout",
     "output_type": "stream",
     "text": [
      "F1 score of model after 0 labeled samples: 57%\n",
      "F1 score of model after 8 labeled samples: 61%\n",
      "F1 score of model after 16 labeled samples: 63%\n",
      "F1 score of model after 24 labeled samples: 62%\n",
      "F1 score of model after 32 labeled samples: 63%\n",
      "F1 score of model after 40 labeled samples: 66%\n"
     ]
    }
   ],
   "source": [
    "best_i = 0\n",
    "best_acc = 0\n",
    "\n",
    "for i in range(size):\n",
    "\n",
    "    predictions = [get_prediction(t,i) for t in data]\n",
    "\n",
    "    acc = 0\n",
    "\n",
    "    for p,t in zip(predictions, true_labels):\n",
    "        if p == t:\n",
    "            acc += 1\n",
    "\n",
    "    accuracy = acc/len(predictions)*100\n",
    "    f = f1_score(true_labels, predictions, average=\"micro\")\n",
    "    print(f\"F1 score of model after {i*8} labeled samples: {f*100:.0f}%\")\n",
    "\n",
    "    if best_acc < accuracy:\n",
    "        best_acc = accuracy\n",
    "        best_i = i"
   ]
  },
  {
   "cell_type": "code",
   "execution_count": 105,
   "metadata": {},
   "outputs": [
    {
     "data": {
      "text/plain": [
       "array([[19, 12,  0],\n",
       "       [ 4, 38, 10],\n",
       "       [ 3,  5,  9]])"
      ]
     },
     "execution_count": 105,
     "metadata": {},
     "output_type": "execute_result"
    }
   ],
   "source": [
    "predictions = [get_prediction(t,best_i) for t in data]\n",
    "confusion_matrix(true_labels, predictions)"
   ]
  }
 ],
 "metadata": {
  "interpreter": {
   "hash": "9676c4275d67dcb74fb5a61bc7c684331ad61d868275d75e21364f248d167261"
  },
  "kernelspec": {
   "display_name": "Python 3.10.8 ('opinions')",
   "language": "python",
   "name": "python3"
  },
  "language_info": {
   "codemirror_mode": {
    "name": "ipython",
    "version": 3
   },
   "file_extension": ".py",
   "mimetype": "text/x-python",
   "name": "python",
   "nbconvert_exporter": "python",
   "pygments_lexer": "ipython3",
   "version": "3.10.8"
  },
  "orig_nbformat": 4
 },
 "nbformat": 4,
 "nbformat_minor": 2
}
